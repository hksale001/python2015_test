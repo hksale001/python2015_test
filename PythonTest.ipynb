{
 "metadata": {
  "name": "",
  "signature": "sha256:91755132983aea088c0856a5f16fd02c1728ff66fb83f24f00fb364d4f658f5a"
 },
 "nbformat": 3,
 "nbformat_minor": 0,
 "worksheets": [
  {
   "cells": [
    {
     "cell_type": "code",
     "collapsed": false,
     "input": [
      "import sys\n",
      "import os\n",
      "import os.path\n",
      "sys.path.append(os.path.join(os.getcwd(), 'lib'))\n",
      "from test import python_test"
     ],
     "language": "python",
     "metadata": {},
     "outputs": [],
     "prompt_number": 8
    },
    {
     "cell_type": "markdown",
     "metadata": {},
     "source": [
      "Please register by putting your name and email address in the `register` line below:"
     ]
    },
    {
     "cell_type": "code",
     "collapsed": false,
     "input": [
      "python_test.register('AlexaHeekes', 'alexa.heekes92@gmail.com')"
     ],
     "language": "python",
     "metadata": {},
     "outputs": [
      {
       "metadata": {},
       "output_type": "pyout",
       "prompt_number": 9,
       "text": [
        "'Thank you AlexaHeekes'"
       ]
      }
     ],
     "prompt_number": 9
    },
    {
     "cell_type": "markdown",
     "metadata": {},
     "source": [
      "**(1)** Write a function `multiply(x, y)` that returns the results of multiplying `x` and `y`. I.e. \n",
      "\n",
      "        result = multiply(5, 10)\n",
      "        print result\n",
      " \n",
      " would print `50`.\n",
      " \n",
      " **Marks:** 1"
     ]
    },
    {
     "cell_type": "code",
     "collapsed": false,
     "input": [
      "def multiply(x,y):\n",
      "    return x*y\n",
      "#result = multiply(5,10)\n",
      "#print result"
     ],
     "language": "python",
     "metadata": {},
     "outputs": [],
     "prompt_number": 13
    },
    {
     "cell_type": "code",
     "collapsed": false,
     "input": [
      "python_test.run_test(1, multiply)"
     ],
     "language": "python",
     "metadata": {},
     "outputs": [
      {
       "output_type": "stream",
       "stream": "stdout",
       "text": [
        "Correct\n"
       ]
      }
     ],
     "prompt_number": 10
    },
    {
     "cell_type": "markdown",
     "metadata": {},
     "source": [
      "**(2)** To calculate the product of a list of numbers you multiply them together, so e.g. the product of 1, 2, 3, and 4 is 1 \u00d7 2 \u00d7 3 \u00d7 4, i.e. 24. Write a python function `product_of(thelist)` that returns the product of all the numbers in `thelist`. E.g.\n",
      "\n",
      "        mylist = [1,2,3,4]\n",
      "        result = product_of(mylist)\n",
      "        print result\n",
      "        \n",
      "would print `24`.\n",
      "\n",
      "**Marks:** 3"
     ]
    },
    {
     "cell_type": "code",
     "collapsed": false,
     "input": [
      "def product_of(mylist):\n",
      "    product = 1\n",
      "    for i in mylist:\n",
      "        product *=float(i)\n",
      "    return product\n",
      "#mylist = [1,2,3,4]\n",
      "#result = product_of(mylist)\n",
      "#print result"
     ],
     "language": "python",
     "metadata": {},
     "outputs": [],
     "prompt_number": 12
    },
    {
     "cell_type": "code",
     "collapsed": false,
     "input": [
      "python_test.run_test(2, product_of)"
     ],
     "language": "python",
     "metadata": {},
     "outputs": [
      {
       "output_type": "stream",
       "stream": "stdout",
       "text": [
        "Correct\n"
       ]
      }
     ],
     "prompt_number": 11
    },
    {
     "cell_type": "markdown",
     "metadata": {},
     "source": [
      "**(3)** The molecular weight (in g/mol) of a strand of (synthesised) single-stranded DNA can be computed by adding together the weights of the individual bases and then subtracting 61.96. The individual bases have these weights:\n",
      "\n",
      "        Adenine  313.2\n",
      "        Thymine  304.2\n",
      "        Cytosine 289.2\n",
      "        Guanine  329.2\n",
      "\n",
      "So for example the molecular weight of the string `GATACCA` is 2089.44. Write a function `mol_weight(dna_str)` that computes the molecular weight of strand of DNA. E.g. \n",
      "\n",
      "        weight = mol_weight('GATACCA')\n",
      "        print weight\n",
      "\n",
      "would print 2089.44.\n",
      "\n",
      "**Marks:** 5"
     ]
    },
    {
     "cell_type": "code",
     "collapsed": false,
     "input": [
      "from collections import Counter\n",
      "def mol_weight(dna_str):\n",
      "    base_weights = {'A':313.2, 'T':304.2, 'C':289.2,'G':329.2}\n",
      "    dna_str_cap = dna_str.upper()\n",
      "    strand_weight = 0\n",
      "    for N in base_weights:\n",
      "        strand_weight += dna_str.count(N)*base_weights[N]\n",
      "    strand_weight -= 61.96\n",
      "    return strand_weight\n",
      "#print mol_weight('GATACCA')"
     ],
     "language": "python",
     "metadata": {},
     "outputs": [],
     "prompt_number": 97
    },
    {
     "cell_type": "code",
     "collapsed": false,
     "input": [
      "python_test.run_test(3, mol_weight)"
     ],
     "language": "python",
     "metadata": {},
     "outputs": [
      {
       "output_type": "stream",
       "stream": "stdout",
       "text": [
        "Correct\n"
       ]
      }
     ],
     "prompt_number": 32
    },
    {
     "cell_type": "markdown",
     "metadata": {},
     "source": [
      "**(4)** Write a function `longest_line(filename)` that returns the longest line in the file named by `filename`. E.g. if a file `myfile.txt` contained the following lines:\n",
      "\n",
      "        *****************\n",
      "        ***********\n",
      "        ***\n",
      "        ************************\n",
      "\n",
      "then\n",
      "\n",
      "        line = longest_line('myfile.txt')\n",
      "        print line\n",
      "\n",
      "would print\n",
      "\n",
      "        ************************\n",
      "\n",
      "You can test your function using the file `sample.txt`.\n",
      "        \n",
      "**Marks:** 5     "
     ]
    },
    {
     "cell_type": "code",
     "collapsed": false,
     "input": [
      "def longest_line(filename):\n",
      "    max_len = 0\n",
      "    long_line = ''\n",
      "    with open(filename) as infile:\n",
      "        for line in infile:\n",
      "            if len(line) > max_len:\n",
      "                max_len = len(line)\n",
      "                long_line = line\n",
      "    return long_line\n",
      "#print longest_line('sample.txt')    "
     ],
     "language": "python",
     "metadata": {},
     "outputs": [],
     "prompt_number": 81
    },
    {
     "cell_type": "code",
     "collapsed": false,
     "input": [
      "python_test.run_test(4, longest_line)"
     ],
     "language": "python",
     "metadata": {},
     "outputs": [
      {
       "output_type": "stream",
       "stream": "stdout",
       "text": [
        "Correct\n"
       ]
      }
     ],
     "prompt_number": 80
    },
    {
     "cell_type": "markdown",
     "metadata": {},
     "source": [
      "**(5)** Consider a file that contains protein names, with one name per line. Here is a sample of the file:\n",
      "\n",
      "        COL1A1\n",
      "        MED12\n",
      "        IREB2\n",
      "        GDF9\n",
      "        RXRG\n",
      "        CBFB\n",
      "        IREB2\n",
      "        TUBB\n",
      "\n",
      "\n",
      "Write a function `deduplicate(filename)` that reads in a file like this (one is provided as `names.txt`) and returns a unique list of names. If `names.txt` contained only the above example, then:\n",
      "\n",
      "        unique_names = deduplicate('names.txt')\n",
      "        print unique_names\n",
      "\n",
      "should print:\n",
      "\n",
      "        ['CBFB', 'COL1A1', 'GDF9', 'IREB2', 'MED12', 'RXRG', 'TUBB']\n",
      "        \n",
      "(The order of the names isn't important)\n",
      "\n",
      "**Marks:** 6"
     ]
    },
    {
     "cell_type": "code",
     "collapsed": false,
     "input": [
      "def deduplicate(filename):\n",
      "    names = set()\n",
      "    with open(filename) as infile:\n",
      "        for name in infile:\n",
      "            n = name.strip()\n",
      "            if n!= '':\n",
      "                names.add(n)\n",
      "    return list(names)\n",
      "#print deduplicate('sample2.txt')"
     ],
     "language": "python",
     "metadata": {},
     "outputs": [],
     "prompt_number": 126
    },
    {
     "cell_type": "code",
     "collapsed": false,
     "input": [
      "python_test.run_test(5, deduplicate)"
     ],
     "language": "python",
     "metadata": {},
     "outputs": [
      {
       "output_type": "stream",
       "stream": "stdout",
       "text": [
        "Correct\n"
       ]
      }
     ],
     "prompt_number": 127
    },
    {
     "cell_type": "markdown",
     "metadata": {},
     "source": [
      "**(6)** The following code is a script that is intended to count how many times a protein name occurs in a file (you can use `names.txt` as the sample file). The script (with bugs) can be found in `bin/count_name.py` and is executable. The code has errors. Correct them:\n",
      "\n",
      "````\n",
      "#!/usr/bin/eenv python\n",
      "\n",
      "import sys\n",
      "\n",
      "def count_name(filename, protein_name):\n",
      "    input_file = open(sys.argv[1])\n",
      "    count = 0\n",
      "    for line in input_file:\n",
      "        if line.rstrip() == protein_name:\n",
      "            count += 1\n",
      "    return count\n",
      "\n",
      "if len(sys.argv) != 3:\n",
      "    sys.exit(\"Usage: count_name.py <protein names file> <protein name>\")\n",
      "\n",
      "filename = sys.argv[0]\n",
      "protein_name = sys.argv[1]\n",
      "name_count = count_name(filename, protein_name)\n",
      "print protein_name, name_count\n",
      "````\n",
      "\n",
      "**Marks:** 4\n"
     ]
    },
    {
     "cell_type": "code",
     "collapsed": false,
     "input": [
      "def count_name(filename, protein_name):\n",
      "    input_file = open(filename)\n",
      "    count = 0\n",
      "    for line in input_file:\n",
      "        if line.rstrip() == protein_name:\n",
      "            count += 1\n",
      "    input_file.close()\n",
      "    return count\n",
      "#count_name('names.txt','GDF9')"
     ],
     "language": "python",
     "metadata": {},
     "outputs": [
      {
       "metadata": {},
       "output_type": "pyout",
       "prompt_number": 95,
       "text": [
        "1"
       ]
      }
     ],
     "prompt_number": 95
    },
    {
     "cell_type": "code",
     "collapsed": false,
     "input": [
      "python_test.run_test(6, None)"
     ],
     "language": "python",
     "metadata": {},
     "outputs": [
      {
       "output_type": "stream",
       "stream": "stdout",
       "text": [
        "Correct\n"
       ]
      }
     ],
     "prompt_number": 96
    },
    {
     "cell_type": "code",
     "collapsed": false,
     "input": [
      "print \"Total marks available:\", python_test.max_marks()"
     ],
     "language": "python",
     "metadata": {},
     "outputs": [
      {
       "output_type": "stream",
       "stream": "stdout",
       "text": [
        "Total marks available: 25\n"
       ]
      }
     ],
     "prompt_number": 2
    },
    {
     "cell_type": "code",
     "collapsed": false,
     "input": [],
     "language": "python",
     "metadata": {},
     "outputs": []
    }
   ],
   "metadata": {}
  }
 ]
}